{
 "cells": [
  {
   "cell_type": "code",
   "execution_count": 1,
   "metadata": {},
   "outputs": [],
   "source": [
    "import psycopg2\n",
    "from IPython.display import Image\n",
    "import copy\n",
    "import json\n",
    "import pydot\n",
    "\n",
    "from tree_node import TreeNode\n",
    "from qep_stats import * \n",
    "from parse_tree import parseJsonNode, getTreeBFS"
   ]
  },
  {
   "cell_type": "code",
   "execution_count": 2,
   "metadata": {},
   "outputs": [],
   "source": [
    "def connect(query):\n",
    "    \"\"\" Connect to the PostgreSQL database server \"\"\"\n",
    "    conn = None\n",
    "    try:\n",
    "        host='localhost' #'172.21.148.168'\n",
    "        database='classicmodels'\n",
    "        user='signapoop' #'db'\n",
    "        password='none' #'dbproj'\n",
    " \n",
    "        print('Connecting to the PostgreSQL database...')\n",
    "        conn = psycopg2.connect(host=host,database=database, user=user, password=password)\n",
    "\n",
    "        cur = conn.cursor()\n",
    "        cur.execute(query)\n",
    "        result = cur.fetchall()\n",
    "        \n",
    "        # close the communication with the PostgreSQL\n",
    "        cur.close()\n",
    "    except (Exception, psycopg2.DatabaseError) as error:\n",
    "        print(error)\n",
    "    finally:\n",
    "        if conn is not None:\n",
    "            conn.close()\n",
    "            print('Database connection closed.')\n",
    "    return result"
   ]
  },
  {
   "cell_type": "code",
   "execution_count": 3,
   "metadata": {},
   "outputs": [],
   "source": [
    "# query = \\\n",
    "# \"EXPLAIN(ANALYZE, FORMAT JSON) \\\n",
    "# SELECT c.customerNumber, COUNT(*) \\\n",
    "# FROM customers c, orders o, orderdetails od \\\n",
    "# WHERE c.customerNumber = o.customerNumber AND o.orderNumber = od.orderNumber AND od.quantityOrdered > 1 \\\n",
    "# GROUP BY c.customerNumber \\\n",
    "# HAVING COUNT(*) > 4;\""
   ]
  },
  {
   "cell_type": "code",
   "execution_count": 4,
   "metadata": {},
   "outputs": [],
   "source": [
    "query = \\\n",
    "\"EXPLAIN(ANALYZE, FORMAT JSON) \\\n",
    "SELECT extension \\\n",
    "FROM employees e \\\n",
    "INNER JOIN offices o ON e.officeCode = o.officeCode \\\n",
    "WHERE e.extension LIKE '%9_0_%';\""
   ]
  },
  {
   "cell_type": "code",
   "execution_count": 5,
   "metadata": {},
   "outputs": [],
   "source": [
    "# query = \\\n",
    "# \"EXPLAIN(FORMAT JSON) \\\n",
    "# SELECT c.customerNumber, COUNT(*) \\\n",
    "# FROM customers c, orders o, orderdetails od \\\n",
    "# WHERE c.customerNumber > o.customerNumber AND o.orderNumber = od.orderNumber AND od.quantityOrdered > 1 + 3 \\\n",
    "# GROUP BY c.customerNumber \\\n",
    "# HAVING COUNT(*) > 4\""
   ]
  },
  {
   "cell_type": "code",
   "execution_count": 6,
   "metadata": {},
   "outputs": [],
   "source": [
    "# query = \\\n",
    "# \"EXPLAIN (ANALYZE, FORMAT JSON)\\\n",
    "# SELECT o.officecode, o.city, COUNT(*) \\\n",
    "# FROM employees c, offices o \\\n",
    "# WHERE c.officecode = o.officecode \\\n",
    "# GROUP BY o.officecode \\\n",
    "# HAVING COUNT(*) > 1;\""
   ]
  },
  {
   "cell_type": "code",
   "execution_count": 7,
   "metadata": {},
   "outputs": [
    {
     "name": "stdout",
     "output_type": "stream",
     "text": [
      "Connecting to the PostgreSQL database...\n",
      "Database connection closed.\n"
     ]
    }
   ],
   "source": [
    "result = connect(query)"
   ]
  },
  {
   "cell_type": "code",
   "execution_count": 8,
   "metadata": {},
   "outputs": [
    {
     "name": "stdout",
     "output_type": "stream",
     "text": [
      "[\n",
      "    {\n",
      "        \"Execution Time\": 0.147,\n",
      "        \"Plan\": {\n",
      "            \"Actual Loops\": 1,\n",
      "            \"Actual Rows\": 0,\n",
      "            \"Actual Startup Time\": 0.039,\n",
      "            \"Actual Total Time\": 0.039,\n",
      "            \"Hash Cond\": \"((e.officecode)::text = (o.officecode)::text)\",\n",
      "            \"Inner Unique\": true,\n",
      "            \"Join Type\": \"Inner\",\n",
      "            \"Node Type\": \"Hash Join\",\n",
      "            \"Parallel Aware\": false,\n",
      "            \"Plan Rows\": 4,\n",
      "            \"Plan Width\": 38,\n",
      "            \"Plans\": [\n",
      "                {\n",
      "                    \"Actual Loops\": 1,\n",
      "                    \"Actual Rows\": 0,\n",
      "                    \"Actual Startup Time\": 0.036,\n",
      "                    \"Actual Total Time\": 0.036,\n",
      "                    \"Alias\": \"e\",\n",
      "                    \"Filter\": \"((extension)::text ~~ '%9_0_%'::text)\",\n",
      "                    \"Node Type\": \"Seq Scan\",\n",
      "                    \"Parallel Aware\": false,\n",
      "                    \"Parent Relationship\": \"Outer\",\n",
      "                    \"Plan Rows\": 4,\n",
      "                    \"Plan Width\": 76,\n",
      "                    \"Relation Name\": \"employees\",\n",
      "                    \"Rows Removed by Filter\": 23,\n",
      "                    \"Startup Cost\": 0.0,\n",
      "                    \"Total Cost\": 1.29\n",
      "                },\n",
      "                {\n",
      "                    \"Actual Loops\": 0,\n",
      "                    \"Actual Rows\": 0,\n",
      "                    \"Actual Startup Time\": 0.0,\n",
      "                    \"Actual Total Time\": 0.0,\n",
      "                    \"Node Type\": \"Hash\",\n",
      "                    \"Parallel Aware\": false,\n",
      "                    \"Parent Relationship\": \"Inner\",\n",
      "                    \"Plan Rows\": 7,\n",
      "                    \"Plan Width\": 38,\n",
      "                    \"Plans\": [\n",
      "                        {\n",
      "                            \"Actual Loops\": 0,\n",
      "                            \"Actual Rows\": 0,\n",
      "                            \"Actual Startup Time\": 0.0,\n",
      "                            \"Actual Total Time\": 0.0,\n",
      "                            \"Alias\": \"o\",\n",
      "                            \"Node Type\": \"Seq Scan\",\n",
      "                            \"Parallel Aware\": false,\n",
      "                            \"Parent Relationship\": \"Outer\",\n",
      "                            \"Plan Rows\": 7,\n",
      "                            \"Plan Width\": 38,\n",
      "                            \"Relation Name\": \"offices\",\n",
      "                            \"Startup Cost\": 0.0,\n",
      "                            \"Total Cost\": 1.07\n",
      "                        }\n",
      "                    ],\n",
      "                    \"Startup Cost\": 1.07,\n",
      "                    \"Total Cost\": 1.07\n",
      "                }\n",
      "            ],\n",
      "            \"Startup Cost\": 1.16,\n",
      "            \"Total Cost\": 2.46\n",
      "        },\n",
      "        \"Planning Time\": 1.802,\n",
      "        \"Triggers\": []\n",
      "    }\n",
      "]\n"
     ]
    }
   ],
   "source": [
    "print(json.dumps(result[0][0], sort_keys=True, indent=4))"
   ]
  },
  {
   "cell_type": "code",
   "execution_count": 9,
   "metadata": {},
   "outputs": [],
   "source": [
    "def plotBFS(root, graph):\n",
    "    frontier = [root]\n",
    "    i = 0\n",
    "    while frontier:\n",
    "        next_level = []\n",
    "        for u in frontier:\n",
    "            #print(\"level {}, val {}, title {}\".format(i, n.val, n.title))\n",
    "            for v in u.children: \n",
    "                edge = pydot.Edge(u.pydot_node, v.pydot_node)\n",
    "                graph.add_edge(edge)\n",
    "                next_level.append(v)\n",
    "        frontier = next_level\n",
    "        i += 1\n",
    "\n",
    "def plotQueryTree(query, qep, filename='test.png'):\n",
    "    assert 'Plan' in qep[0], \"Invalid JSON was given\"\n",
    "    root = parseJsonNode(qep[0]['Plan'])\n",
    "    all_nodes = getTreeBFS(root)\n",
    "    \n",
    "    # Compute statistics\n",
    "    execution_time = qep[0].get('Execution Time', None)\n",
    "    planning_time = qep[0].get('Planning Time', None)\n",
    "    calculateActualCost(all_nodes)\n",
    "    calculateActualDuration(all_nodes)\n",
    "    largest_row = markLargestNode(all_nodes)\n",
    "    largest_cost = markCostliestNode(all_nodes)\n",
    "    largest_duration = markSlowestNode(all_nodes)\n",
    "    calculatePercentDuration(all_nodes, execution_time)\n",
    "    \n",
    "    correlateQuery(all_nodes, query)\n",
    "    \n",
    "    stats = {'execution_time': execution_time, \n",
    "             'planning_time': planning_time,\n",
    "             'largest_row': largest_row, \n",
    "             'largest_cost': largest_cost, \n",
    "             'largest_duration': largest_duration}\n",
    "    \n",
    "    graph = pydot.Dot(graph_type='graph')\n",
    "    for node in all_nodes:\n",
    "        node.pydot_node = pydot.Node(node.to_string(), shape='box')\n",
    "        graph.add_node(node.pydot_node)\n",
    "    plotBFS(all_nodes[0], graph)\n",
    "    graph.write_png(filename)\n",
    "    return filename, all_nodes, stats"
   ]
  },
  {
   "cell_type": "code",
   "execution_count": 10,
   "metadata": {},
   "outputs": [],
   "source": [
    "def stripParenthesis(foo):\n",
    "    foo = foo.replace(\"(\", '')\n",
    "    foo = foo.replace(\")\", '')\n",
    "    foo = foo.replace('::text', '')\n",
    "    #foo = foo.replace('~~', 'like')\n",
    "    #foo = foo.replace('!~~', 'not like')\n",
    "    return foo"
   ]
  },
  {
   "cell_type": "code",
   "execution_count": 11,
   "metadata": {},
   "outputs": [],
   "source": [
    "def findMatchingBE(query, booleans, cond):\n",
    "    for b in booleans:\n",
    "        be = BooleanExpression(cond, variables=b.variables, rev_variables=b.rev_variables)\n",
    "        if isEquivalentBooleanExpression(be, b):\n",
    "            return b.start, b.end, query[b.start:b.end]\n",
    "    return -1, -1, \"\""
   ]
  },
  {
   "cell_type": "code",
   "execution_count": 12,
   "metadata": {},
   "outputs": [],
   "source": [
    "from findExpressions import *\n",
    "from BooleanExpression import BooleanExpression"
   ]
  },
  {
   "cell_type": "code",
   "execution_count": 29,
   "metadata": {},
   "outputs": [],
   "source": [
    "def reverseComparatorIfNeeded(comparator):\n",
    "    if comparator == '<':\n",
    "        return '>'\n",
    "    elif comparator == '<=':\n",
    "        return '>='\n",
    "    return comparator\n",
    "\n",
    "def isEquivalentBooleanExpression(a,b):\n",
    "    print(type(a.right))\n",
    "    print(type(b.right))\n",
    "    if isinstance(a.right, str) or isinstance(b.right, str):\n",
    "        print('Yes')\n",
    "        return a.left.exp==b.left.exp and a.right==b.right\n",
    "    elif a.left.exp==b.left.exp and a.right.exp==b.right.exp:\n",
    "        return a.comparator==b.comparator\n",
    "    elif a.left.exp==b.right.exp and a.right.exp==b.left.exp:\n",
    "        return a.comparator==reverseComparatorIfNeeded(b.comparator)\n",
    "    \n",
    "    return False"
   ]
  },
  {
   "cell_type": "code",
   "execution_count": 30,
   "metadata": {},
   "outputs": [],
   "source": [
    "def getMatchingClause(query, search_key):\n",
    "    start = query.find(search_key)\n",
    "    if start == -1:\n",
    "        return start\n",
    "    shortened_query = query[start+len(search_key)+1:]\n",
    "    parts = shortened_query.split(' ') \n",
    "    return search_key + ' ' + parts[0]"
   ]
  },
  {
   "cell_type": "code",
   "execution_count": 31,
   "metadata": {},
   "outputs": [],
   "source": [
    "def findClauseStartEnd(query, clause):\n",
    "    start = query.find(clause)\n",
    "    if start == -1:\n",
    "        return -1, -1, \"\"\n",
    "    return start, start + len(clause), clause"
   ]
  },
  {
   "cell_type": "code",
   "execution_count": 32,
   "metadata": {},
   "outputs": [],
   "source": [
    "def correlateQuery(all_nodes, query):\n",
    "    # Change query to a list of Boolean expressions\n",
    "    booleans = findExpressions(query)\n",
    "    \n",
    "    for node in all_nodes:\n",
    "        #print(node.title)\n",
    "        s = -1\n",
    "        e = -1\n",
    "        if 'Join' in node.title:\n",
    "            # Find hash condition as boolean expression\n",
    "            cond = stripParenthesis(node.description_dict['Hash Cond'])\n",
    "            print(cond)\n",
    "            s, e, match = findMatchingBE(query, booleans, cond)\n",
    "            print('Join:', cond, 'Matched: ', match)\n",
    "            \n",
    "        elif 'Scan' in node.title:\n",
    "            # Find relation name\n",
    "            clause = \" \".join([node.description_dict['Relation Name'], node.description_dict['Alias']])\n",
    "            s, e, match = findClauseStartEnd(query, clause)\n",
    "            print('Scan:', clause, 'Matched: ', match)\n",
    "            if 'Filter' in node.description_dict:\n",
    "                # Find filter condition as boolean expression\n",
    "                cond = stripParenthesis(node.description_dict['Filter'])\n",
    "                print(cond)\n",
    "                s, e, match = findMatchingBE(query, booleans, cond)\n",
    "                print('Filter:', cond, 'Matched: ', match)\n",
    "                \n",
    "        elif 'Aggregate' in node.title:\n",
    "            # Find GROUP BY\n",
    "            clause = getMatchingClause(query, 'GROUP BY')\n",
    "            s, e, match = findClauseStartEnd(query, clause)\n",
    "            print('Aggregate:', 'Matched: ', match)\n",
    "        \n",
    "        elif 'Sort' in node.title:\n",
    "            clause = getMatchingClause(query, 'ORDER BY')\n",
    "            s, e, match = findClauseStartEnd(query, clause)\n",
    "            print('Sort:', 'Matched: ', match)\n",
    "            \n",
    "        node.description_dict['StartOfQuery'] = s\n",
    "        node.description_dict['EndOfQuery'] = e\n",
    "        \n",
    "#correlateQuery(all_nodes, query)"
   ]
  },
  {
   "cell_type": "code",
   "execution_count": 33,
   "metadata": {},
   "outputs": [
    {
     "name": "stdout",
     "output_type": "stream",
     "text": [
      "e.officecode = o.officecode\n",
      "<class 'BooleanExpression.Expression'>\n",
      "<class 'BooleanExpression.Expression'>\n",
      "Join: e.officecode = o.officecode Matched:  e.officeCode = o.officeCode\n",
      "Scan: employees e Matched:  employees e\n",
      "extension ~~ '%9_0_%'\n",
      "<class 'BooleanExpression.StringVar'>\n",
      "<class 'BooleanExpression.Expression'>\n",
      "<class 'BooleanExpression.StringVar'>\n",
      "<class 'BooleanExpression.StringVar'>\n"
     ]
    },
    {
     "ename": "AttributeError",
     "evalue": "'StringVar' object has no attribute 'exp'",
     "output_type": "error",
     "traceback": [
      "\u001b[0;31m---------------------------------------------------------------------------\u001b[0m",
      "\u001b[0;31mAttributeError\u001b[0m                            Traceback (most recent call last)",
      "\u001b[0;32m<ipython-input-33-096ef0cf47f0>\u001b[0m in \u001b[0;36m<module>\u001b[0;34m()\u001b[0m\n\u001b[1;32m      1\u001b[0m \u001b[0mqep\u001b[0m \u001b[0;34m=\u001b[0m \u001b[0mresult\u001b[0m\u001b[0;34m[\u001b[0m\u001b[0;36m0\u001b[0m\u001b[0;34m]\u001b[0m\u001b[0;34m[\u001b[0m\u001b[0;36m0\u001b[0m\u001b[0;34m]\u001b[0m\u001b[0;34m\u001b[0m\u001b[0m\n\u001b[0;32m----> 2\u001b[0;31m \u001b[0mfilename\u001b[0m\u001b[0;34m,\u001b[0m \u001b[0mall_nodes\u001b[0m\u001b[0;34m,\u001b[0m \u001b[0mstats\u001b[0m \u001b[0;34m=\u001b[0m \u001b[0mplotQueryTree\u001b[0m\u001b[0;34m(\u001b[0m\u001b[0mquery\u001b[0m\u001b[0;34m,\u001b[0m \u001b[0mqep\u001b[0m\u001b[0;34m)\u001b[0m\u001b[0;34m\u001b[0m\u001b[0m\n\u001b[0m\u001b[1;32m      3\u001b[0m \u001b[0mprint\u001b[0m\u001b[0;34m(\u001b[0m\u001b[0mstats\u001b[0m\u001b[0;34m)\u001b[0m\u001b[0;34m\u001b[0m\u001b[0m\n",
      "\u001b[0;32m<ipython-input-9-ef8c57413114>\u001b[0m in \u001b[0;36mplotQueryTree\u001b[0;34m(query, qep, filename)\u001b[0m\n\u001b[1;32m     28\u001b[0m     \u001b[0mcalculatePercentDuration\u001b[0m\u001b[0;34m(\u001b[0m\u001b[0mall_nodes\u001b[0m\u001b[0;34m,\u001b[0m \u001b[0mexecution_time\u001b[0m\u001b[0;34m)\u001b[0m\u001b[0;34m\u001b[0m\u001b[0m\n\u001b[1;32m     29\u001b[0m \u001b[0;34m\u001b[0m\u001b[0m\n\u001b[0;32m---> 30\u001b[0;31m     \u001b[0mcorrelateQuery\u001b[0m\u001b[0;34m(\u001b[0m\u001b[0mall_nodes\u001b[0m\u001b[0;34m,\u001b[0m \u001b[0mquery\u001b[0m\u001b[0;34m)\u001b[0m\u001b[0;34m\u001b[0m\u001b[0m\n\u001b[0m\u001b[1;32m     31\u001b[0m \u001b[0;34m\u001b[0m\u001b[0m\n\u001b[1;32m     32\u001b[0m     stats = {'execution_time': execution_time, \n",
      "\u001b[0;32m<ipython-input-32-bac16edbb94c>\u001b[0m in \u001b[0;36mcorrelateQuery\u001b[0;34m(all_nodes, query)\u001b[0m\n\u001b[1;32m     23\u001b[0m                 \u001b[0mcond\u001b[0m \u001b[0;34m=\u001b[0m \u001b[0mstripParenthesis\u001b[0m\u001b[0;34m(\u001b[0m\u001b[0mnode\u001b[0m\u001b[0;34m.\u001b[0m\u001b[0mdescription_dict\u001b[0m\u001b[0;34m[\u001b[0m\u001b[0;34m'Filter'\u001b[0m\u001b[0;34m]\u001b[0m\u001b[0;34m)\u001b[0m\u001b[0;34m\u001b[0m\u001b[0m\n\u001b[1;32m     24\u001b[0m                 \u001b[0mprint\u001b[0m\u001b[0;34m(\u001b[0m\u001b[0mcond\u001b[0m\u001b[0;34m)\u001b[0m\u001b[0;34m\u001b[0m\u001b[0m\n\u001b[0;32m---> 25\u001b[0;31m                 \u001b[0ms\u001b[0m\u001b[0;34m,\u001b[0m \u001b[0me\u001b[0m\u001b[0;34m,\u001b[0m \u001b[0mmatch\u001b[0m \u001b[0;34m=\u001b[0m \u001b[0mfindMatchingBE\u001b[0m\u001b[0;34m(\u001b[0m\u001b[0mquery\u001b[0m\u001b[0;34m,\u001b[0m \u001b[0mbooleans\u001b[0m\u001b[0;34m,\u001b[0m \u001b[0mcond\u001b[0m\u001b[0;34m)\u001b[0m\u001b[0;34m\u001b[0m\u001b[0m\n\u001b[0m\u001b[1;32m     26\u001b[0m                 \u001b[0mprint\u001b[0m\u001b[0;34m(\u001b[0m\u001b[0;34m'Filter:'\u001b[0m\u001b[0;34m,\u001b[0m \u001b[0mcond\u001b[0m\u001b[0;34m,\u001b[0m \u001b[0;34m'Matched: '\u001b[0m\u001b[0;34m,\u001b[0m \u001b[0mmatch\u001b[0m\u001b[0;34m)\u001b[0m\u001b[0;34m\u001b[0m\u001b[0m\n\u001b[1;32m     27\u001b[0m \u001b[0;34m\u001b[0m\u001b[0m\n",
      "\u001b[0;32m<ipython-input-11-3be669ee4f26>\u001b[0m in \u001b[0;36mfindMatchingBE\u001b[0;34m(query, booleans, cond)\u001b[0m\n\u001b[1;32m      2\u001b[0m     \u001b[0;32mfor\u001b[0m \u001b[0mb\u001b[0m \u001b[0;32min\u001b[0m \u001b[0mbooleans\u001b[0m\u001b[0;34m:\u001b[0m\u001b[0;34m\u001b[0m\u001b[0m\n\u001b[1;32m      3\u001b[0m         \u001b[0mbe\u001b[0m \u001b[0;34m=\u001b[0m \u001b[0mBooleanExpression\u001b[0m\u001b[0;34m(\u001b[0m\u001b[0mcond\u001b[0m\u001b[0;34m,\u001b[0m \u001b[0mvariables\u001b[0m\u001b[0;34m=\u001b[0m\u001b[0mb\u001b[0m\u001b[0;34m.\u001b[0m\u001b[0mvariables\u001b[0m\u001b[0;34m,\u001b[0m \u001b[0mrev_variables\u001b[0m\u001b[0;34m=\u001b[0m\u001b[0mb\u001b[0m\u001b[0;34m.\u001b[0m\u001b[0mrev_variables\u001b[0m\u001b[0;34m)\u001b[0m\u001b[0;34m\u001b[0m\u001b[0m\n\u001b[0;32m----> 4\u001b[0;31m         \u001b[0;32mif\u001b[0m \u001b[0misEquivalentBooleanExpression\u001b[0m\u001b[0;34m(\u001b[0m\u001b[0mbe\u001b[0m\u001b[0;34m,\u001b[0m \u001b[0mb\u001b[0m\u001b[0;34m)\u001b[0m\u001b[0;34m:\u001b[0m\u001b[0;34m\u001b[0m\u001b[0m\n\u001b[0m\u001b[1;32m      5\u001b[0m             \u001b[0;32mreturn\u001b[0m \u001b[0mb\u001b[0m\u001b[0;34m.\u001b[0m\u001b[0mstart\u001b[0m\u001b[0;34m,\u001b[0m \u001b[0mb\u001b[0m\u001b[0;34m.\u001b[0m\u001b[0mend\u001b[0m\u001b[0;34m,\u001b[0m \u001b[0mquery\u001b[0m\u001b[0;34m[\u001b[0m\u001b[0mb\u001b[0m\u001b[0;34m.\u001b[0m\u001b[0mstart\u001b[0m\u001b[0;34m:\u001b[0m\u001b[0mb\u001b[0m\u001b[0;34m.\u001b[0m\u001b[0mend\u001b[0m\u001b[0;34m]\u001b[0m\u001b[0;34m\u001b[0m\u001b[0m\n\u001b[1;32m      6\u001b[0m     \u001b[0;32mreturn\u001b[0m \u001b[0;34m-\u001b[0m\u001b[0;36m1\u001b[0m\u001b[0;34m,\u001b[0m \u001b[0;34m-\u001b[0m\u001b[0;36m1\u001b[0m\u001b[0;34m,\u001b[0m \u001b[0;34m\"\"\u001b[0m\u001b[0;34m\u001b[0m\u001b[0m\n",
      "\u001b[0;32m<ipython-input-29-73420fb5815a>\u001b[0m in \u001b[0;36misEquivalentBooleanExpression\u001b[0;34m(a, b)\u001b[0m\n\u001b[1;32m     14\u001b[0m     \u001b[0;32melif\u001b[0m \u001b[0ma\u001b[0m\u001b[0;34m.\u001b[0m\u001b[0mleft\u001b[0m\u001b[0;34m.\u001b[0m\u001b[0mexp\u001b[0m\u001b[0;34m==\u001b[0m\u001b[0mb\u001b[0m\u001b[0;34m.\u001b[0m\u001b[0mleft\u001b[0m\u001b[0;34m.\u001b[0m\u001b[0mexp\u001b[0m \u001b[0;32mand\u001b[0m \u001b[0ma\u001b[0m\u001b[0;34m.\u001b[0m\u001b[0mright\u001b[0m\u001b[0;34m.\u001b[0m\u001b[0mexp\u001b[0m\u001b[0;34m==\u001b[0m\u001b[0mb\u001b[0m\u001b[0;34m.\u001b[0m\u001b[0mright\u001b[0m\u001b[0;34m.\u001b[0m\u001b[0mexp\u001b[0m\u001b[0;34m:\u001b[0m\u001b[0;34m\u001b[0m\u001b[0m\n\u001b[1;32m     15\u001b[0m         \u001b[0;32mreturn\u001b[0m \u001b[0ma\u001b[0m\u001b[0;34m.\u001b[0m\u001b[0mcomparator\u001b[0m\u001b[0;34m==\u001b[0m\u001b[0mb\u001b[0m\u001b[0;34m.\u001b[0m\u001b[0mcomparator\u001b[0m\u001b[0;34m\u001b[0m\u001b[0m\n\u001b[0;32m---> 16\u001b[0;31m     \u001b[0;32melif\u001b[0m \u001b[0ma\u001b[0m\u001b[0;34m.\u001b[0m\u001b[0mleft\u001b[0m\u001b[0;34m.\u001b[0m\u001b[0mexp\u001b[0m\u001b[0;34m==\u001b[0m\u001b[0mb\u001b[0m\u001b[0;34m.\u001b[0m\u001b[0mright\u001b[0m\u001b[0;34m.\u001b[0m\u001b[0mexp\u001b[0m \u001b[0;32mand\u001b[0m \u001b[0ma\u001b[0m\u001b[0;34m.\u001b[0m\u001b[0mright\u001b[0m\u001b[0;34m.\u001b[0m\u001b[0mexp\u001b[0m\u001b[0;34m==\u001b[0m\u001b[0mb\u001b[0m\u001b[0;34m.\u001b[0m\u001b[0mleft\u001b[0m\u001b[0;34m.\u001b[0m\u001b[0mexp\u001b[0m\u001b[0;34m:\u001b[0m\u001b[0;34m\u001b[0m\u001b[0m\n\u001b[0m\u001b[1;32m     17\u001b[0m         \u001b[0;32mreturn\u001b[0m \u001b[0ma\u001b[0m\u001b[0;34m.\u001b[0m\u001b[0mcomparator\u001b[0m\u001b[0;34m==\u001b[0m\u001b[0mreverseComparatorIfNeeded\u001b[0m\u001b[0;34m(\u001b[0m\u001b[0mb\u001b[0m\u001b[0;34m.\u001b[0m\u001b[0mcomparator\u001b[0m\u001b[0;34m)\u001b[0m\u001b[0;34m\u001b[0m\u001b[0m\n\u001b[1;32m     18\u001b[0m \u001b[0;34m\u001b[0m\u001b[0m\n",
      "\u001b[0;31mAttributeError\u001b[0m: 'StringVar' object has no attribute 'exp'"
     ]
    }
   ],
   "source": [
    "qep = result[0][0]\n",
    "filename, all_nodes, stats = plotQueryTree(query, qep)\n",
    "print(stats)"
   ]
  },
  {
   "cell_type": "code",
   "execution_count": null,
   "metadata": {},
   "outputs": [],
   "source": [
    "Image(filename)"
   ]
  },
  {
   "cell_type": "code",
   "execution_count": null,
   "metadata": {},
   "outputs": [],
   "source": [
    "with open('stats.json', 'w') as outfile:\n",
    "    json.dump(stats, outfile)\n",
    "\n",
    "with open('qep.json', 'w') as outfile:\n",
    "    json.dump(all_nodes[0].to_json(), outfile, indent=4)"
   ]
  },
  {
   "cell_type": "code",
   "execution_count": null,
   "metadata": {},
   "outputs": [],
   "source": [
    "cond = \"extension ~~ '%9_0_%'\"\n"
   ]
  }
 ],
 "metadata": {
  "kernelspec": {
   "display_name": "Python (py36)",
   "language": "python",
   "name": "py36"
  },
  "language_info": {
   "codemirror_mode": {
    "name": "ipython",
    "version": 3
   },
   "file_extension": ".py",
   "mimetype": "text/x-python",
   "name": "python",
   "nbconvert_exporter": "python",
   "pygments_lexer": "ipython3",
   "version": "3.6.6"
  }
 },
 "nbformat": 4,
 "nbformat_minor": 2
}
