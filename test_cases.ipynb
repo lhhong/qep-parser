{
 "cells": [
  {
   "cell_type": "code",
   "execution_count": 1,
   "metadata": {},
   "outputs": [],
   "source": [
    "from findExpressions import *"
   ]
  },
  {
   "cell_type": "code",
   "execution_count": 3,
   "metadata": {},
   "outputs": [],
   "source": [
    "#OK\n",
    "query = \\\n",
    "\"EXPLAIN(FORMAT JSON) \\\n",
    "SELECT c.customerNumber, COUNT(*) \\\n",
    "FROM customers c, orders o, orderdetails od \\\n",
    "WHERE c.customerNumber > o.customerNumber AND o.orderNumber = od.orderNumber AND od.quantityOrdered > 1 \\\n",
    "GROUP BY c.customerNumber \\\n",
    "HAVING COUNT(*) > 4;\""
   ]
  },
  {
   "cell_type": "code",
   "execution_count": 11,
   "metadata": {},
   "outputs": [],
   "source": [
    "#NOT OK\n",
    "query = \\\n",
    "\"EXPLAIN(ANALYZE, FORMAT JSON) \\\n",
    "SELECT e.lastName, e.firstName \\\n",
    "FROM employees e, offices o \\\n",
    "WHERE e.officeCode = o.officeCode \\\n",
    "ORDER BY e.lastName ASC;\""
   ]
  },
  {
   "cell_type": "code",
   "execution_count": 7,
   "metadata": {},
   "outputs": [],
   "source": [
    "#OK\n",
    "query = \\\n",
    "\"EXPLAIN(ANALYZE, FORMAT JSON) \\\n",
    "SELECT p.buyPrice, c.customerName \\\n",
    "FROM products p, orderdetails od, customers c, orders o  \\\n",
    "WHERE c.customerNumber = o.customerNumber AND o.orderNumber = od.orderNumber AND p.productCode = od.productCode \\\n",
    "GROUP BY c.customerName, p.buyPrice \\\n",
    "ORDER BY p.buyPrice \\\n",
    "LIMIT 5;\""
   ]
  },
  {
   "cell_type": "code",
   "execution_count": 9,
   "metadata": {},
   "outputs": [],
   "source": [
    "#OK\n",
    "query = \\\n",
    "\"EXPLAIN(ANALYZE, FORMAT JSON) \\\n",
    "SELECT productCode, MSRP, buyPrice \\\n",
    "FROM products \\\n",
    "WHERE productName LIKE '%e%s%t_%';\""
   ]
  },
  {
   "cell_type": "code",
   "execution_count": 13,
   "metadata": {},
   "outputs": [],
   "source": [
    "#OK\n",
    "query = \\\n",
    "\"EXPLAIN(ANALYZE, FORMAT JSON) \\\n",
    "SELECT customerName, paymentDate, amount \\\n",
    "FROM customers \\\n",
    "INNER JOIN payments ON customers.customerNumber = payments.customerNumber;\""
   ]
  },
  {
   "cell_type": "code",
   "execution_count": 19,
   "metadata": {},
   "outputs": [],
   "source": [
    "#NOT OK\n",
    "query = \\\n",
    "\"EXPLAIN(ANALYZE, FORMAT JSON) \\\n",
    "SELECT productCode, productName, productVendor, quantityInStock, MSRP, image \\\n",
    "FROM products \\\n",
    "INNER JOIN productlines ON products.productLine = productlines.productLine \\\n",
    "ORDER BY MSRP DESC \\\n",
    "LIMIT 5;\""
   ]
  },
  {
   "cell_type": "code",
   "execution_count": 17,
   "metadata": {},
   "outputs": [],
   "source": [
    "#OK\n",
    "query = \\\n",
    "\"EXPLAIN(ANALYZE, FORMAT JSON) \\\n",
    "SELECT extension \\\n",
    "FROM employees e \\\n",
    "INNER JOIN offices o ON e.officeCode = o.officeCode \\\n",
    "WHERE e.extension LIKE '%9_0_%';\""
   ]
  },
  {
   "cell_type": "code",
   "execution_count": 20,
   "metadata": {},
   "outputs": [
    {
     "ename": "SyntaxError",
     "evalue": "invalid syntax (<string>, line 1)",
     "output_type": "error",
     "traceback": [
      "Traceback \u001b[0;36m(most recent call last)\u001b[0m:\n",
      "  File \u001b[1;32m\"/Users/signapoop/anaconda3/envs/py36/lib/python3.6/site-packages/IPython/core/interactiveshell.py\"\u001b[0m, line \u001b[1;32m2961\u001b[0m, in \u001b[1;35mrun_code\u001b[0m\n    exec(code_obj, self.user_global_ns, self.user_ns)\n",
      "  File \u001b[1;32m\"<ipython-input-20-c3d1bd35c2fe>\"\u001b[0m, line \u001b[1;32m1\u001b[0m, in \u001b[1;35m<module>\u001b[0m\n    booleans = findExpressions(query)\n",
      "  File \u001b[1;32m\"/Users/signapoop/Desktop/qep-parser/findExpressions.py\"\u001b[0m, line \u001b[1;32m58\u001b[0m, in \u001b[1;35mfindExpressions\u001b[0m\n    exps.append(BooleanExpression(sql[start:end], start=start, end=end))\n",
      "  File \u001b[1;32m\"/Users/signapoop/Desktop/qep-parser/BooleanExpression.py\"\u001b[0m, line \u001b[1;32m71\u001b[0m, in \u001b[1;35m__init__\u001b[0m\n    self.parse_string(string)\n",
      "  File \u001b[1;32m\"/Users/signapoop/Desktop/qep-parser/BooleanExpression.py\"\u001b[0m, line \u001b[1;32m97\u001b[0m, in \u001b[1;35mparse_string\u001b[0m\n    self.right = self.parse_operand(args[1])\n",
      "  File \u001b[1;32m\"/Users/signapoop/Desktop/qep-parser/BooleanExpression.py\"\u001b[0m, line \u001b[1;32m127\u001b[0m, in \u001b[1;35mparse_operand\u001b[0m\n    return Expression(op, self.variables)\n",
      "  File \u001b[1;32m\"/Users/signapoop/Desktop/qep-parser/BooleanExpression.py\"\u001b[0m, line \u001b[1;32m38\u001b[0m, in \u001b[1;35m__init__\u001b[0m\n    self.parse(exp, symbols)\n",
      "\u001b[0;36m  File \u001b[0;32m\"/Users/signapoop/Desktop/qep-parser/BooleanExpression.py\"\u001b[0;36m, line \u001b[0;32m45\u001b[0;36m, in \u001b[0;35mparse\u001b[0;36m\u001b[0m\n\u001b[0;31m    self.exp = eval('sympy.simplify(' + exp + ')')\u001b[0m\n",
      "\u001b[0;36m  File \u001b[0;32m\"<string>\"\u001b[0;36m, line \u001b[0;32m1\u001b[0m\n\u001b[0;31m    sympy.simplify(b c d e f g 5)\u001b[0m\n\u001b[0m                     ^\u001b[0m\n\u001b[0;31mSyntaxError\u001b[0m\u001b[0;31m:\u001b[0m invalid syntax\n"
     ]
    }
   ],
   "source": [
    "booleans = findExpressions(query)"
   ]
  },
  {
   "cell_type": "code",
   "execution_count": null,
   "metadata": {},
   "outputs": [],
   "source": []
  }
 ],
 "metadata": {
  "kernelspec": {
   "display_name": "Python (py36)",
   "language": "python",
   "name": "py36"
  },
  "language_info": {
   "codemirror_mode": {
    "name": "ipython",
    "version": 3
   },
   "file_extension": ".py",
   "mimetype": "text/x-python",
   "name": "python",
   "nbconvert_exporter": "python",
   "pygments_lexer": "ipython3",
   "version": "3.6.6"
  }
 },
 "nbformat": 4,
 "nbformat_minor": 2
}
