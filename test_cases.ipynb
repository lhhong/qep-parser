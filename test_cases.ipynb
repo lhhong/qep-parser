{
 "cells": [
  {
   "cell_type": "code",
   "execution_count": 1,
   "metadata": {},
   "outputs": [],
   "source": [
    "from findExpressions import *"
   ]
  },
  {
   "cell_type": "code",
   "execution_count": 2,
   "metadata": {},
   "outputs": [],
   "source": [
    "#OK\n",
    "query = \\\n",
    "\"EXPLAIN(FORMAT JSON) \\\n",
    "SELECT c.customerNumber, COUNT(*) \\\n",
    "FROM customers c, orders o, orderdetails od \\\n",
    "WHERE c.customerNumber > o.customerNumber AND o.orderNumber = od.orderNumber AND od.quantityOrdered > 1 \\\n",
    "GROUP BY c.customerNumber \\\n",
    "HAVING COUNT(*) > 4;\""
   ]
  },
  {
   "cell_type": "code",
   "execution_count": 3,
   "metadata": {},
   "outputs": [],
   "source": [
    "#OK\n",
    "query = \\\n",
    "\"EXPLAIN(ANALYZE, FORMAT JSON) \\\n",
    "SELECT e.lastName, e.firstName \\\n",
    "FROM employees e, offices o \\\n",
    "WHERE e.officeCode = o.officeCode \\\n",
    "ORDER BY e.lastName ASC;\""
   ]
  },
  {
   "cell_type": "code",
   "execution_count": 4,
   "metadata": {},
   "outputs": [],
   "source": [
    "#OK\n",
    "query = \\\n",
    "\"EXPLAIN(ANALYZE, FORMAT JSON) \\\n",
    "SELECT p.buyPrice, c.customerName \\\n",
    "FROM products p, orderdetails od, customers c, orders o  \\\n",
    "WHERE c.customerNumber = o.customerNumber AND o.orderNumber = od.orderNumber AND p.productCode = od.productCode \\\n",
    "GROUP BY c.customerName, p.buyPrice \\\n",
    "ORDER BY p.buyPrice \\\n",
    "LIMIT 5;\""
   ]
  },
  {
   "cell_type": "code",
   "execution_count": 5,
   "metadata": {},
   "outputs": [],
   "source": [
    "#OK\n",
    "query = \\\n",
    "\"EXPLAIN(ANALYZE, FORMAT JSON) \\\n",
    "SELECT productCode, MSRP, buyPrice \\\n",
    "FROM products \\\n",
    "WHERE productName LIKE '%e%s%t_%';\""
   ]
  },
  {
   "cell_type": "code",
   "execution_count": 6,
   "metadata": {},
   "outputs": [],
   "source": [
    "#OK\n",
    "query = \\\n",
    "\"EXPLAIN(ANALYZE, FORMAT JSON) \\\n",
    "SELECT customerName, paymentDate, amount \\\n",
    "FROM customers \\\n",
    "INNER JOIN payments ON customers.customerNumber = payments.customerNumber;\""
   ]
  },
  {
   "cell_type": "code",
   "execution_count": 7,
   "metadata": {},
   "outputs": [],
   "source": [
    "#OK\n",
    "query = \\\n",
    "\"EXPLAIN(ANALYZE, FORMAT JSON) \\\n",
    "SELECT productCode, productName, productVendor, quantityInStock, MSRP, image \\\n",
    "FROM products \\\n",
    "INNER JOIN productlines ON products.productLine = productlines.productLine \\\n",
    "ORDER BY MSRP DESC \\\n",
    "LIMIT 5;\""
   ]
  },
  {
   "cell_type": "code",
   "execution_count": 8,
   "metadata": {},
   "outputs": [],
   "source": [
    "#OK\n",
    "query = \\\n",
    "\"EXPLAIN(ANALYZE, FORMAT JSON) \\\n",
    "SELECT extension \\\n",
    "FROM employees e \\\n",
    "INNER JOIN offices o ON e.officeCode = o.officeCode \\\n",
    "WHERE e.extension LIKE '%9_0_%';\""
   ]
  },
  {
   "cell_type": "code",
   "execution_count": 9,
   "metadata": {},
   "outputs": [],
   "source": [
    "booleans = findExpressions(query)"
   ]
  },
  {
   "cell_type": "code",
   "execution_count": null,
   "metadata": {},
   "outputs": [],
   "source": []
  }
 ],
 "metadata": {
  "kernelspec": {
   "display_name": "Python (py36)",
   "language": "python",
   "name": "py36"
  },
  "language_info": {
   "codemirror_mode": {
    "name": "ipython",
    "version": 3
   },
   "file_extension": ".py",
   "mimetype": "text/x-python",
   "name": "python",
   "nbconvert_exporter": "python",
   "pygments_lexer": "ipython3",
   "version": "3.6.6"
  }
 },
 "nbformat": 4,
 "nbformat_minor": 2
}
