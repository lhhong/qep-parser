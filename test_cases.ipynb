{
 "cells": [
  {
   "cell_type": "code",
   "execution_count": 1,
   "metadata": {},
   "outputs": [
    {
     "ename": "ImportError",
     "evalue": "No module named 'sympy'",
     "output_type": "error",
     "traceback": [
      "\u001b[0;31m---------------------------------------------------------------------------\u001b[0m",
      "\u001b[0;31mImportError\u001b[0m                               Traceback (most recent call last)",
      "\u001b[0;32m<ipython-input-1-7fa19bc59682>\u001b[0m in \u001b[0;36m<module>\u001b[0;34m\u001b[0m\n\u001b[0;32m----> 1\u001b[0;31m \u001b[0;32mfrom\u001b[0m \u001b[0mfindExpressions\u001b[0m \u001b[0;32mimport\u001b[0m \u001b[0;34m*\u001b[0m\u001b[0;34m\u001b[0m\u001b[0m\n\u001b[0m",
      "\u001b[0;32m~/db/proj2/qep-parser/findExpressions.py\u001b[0m in \u001b[0;36m<module>\u001b[0;34m\u001b[0m\n\u001b[1;32m      1\u001b[0m \u001b[0;32mimport\u001b[0m \u001b[0mre\u001b[0m\u001b[0;34m\u001b[0m\u001b[0m\n\u001b[1;32m      2\u001b[0m \u001b[0;32mimport\u001b[0m \u001b[0mKeywords\u001b[0m\u001b[0;34m\u001b[0m\u001b[0m\n\u001b[0;32m----> 3\u001b[0;31m \u001b[0;32mfrom\u001b[0m \u001b[0mBooleanExpression\u001b[0m \u001b[0;32mimport\u001b[0m \u001b[0mBooleanExpression\u001b[0m\u001b[0;34m\u001b[0m\u001b[0m\n\u001b[0m\u001b[1;32m      4\u001b[0m \u001b[0;34m\u001b[0m\u001b[0m\n\u001b[1;32m      5\u001b[0m \u001b[0;32mdef\u001b[0m \u001b[0mfindExpressions\u001b[0m\u001b[0;34m(\u001b[0m\u001b[0msql\u001b[0m\u001b[0;34m)\u001b[0m\u001b[0;34m:\u001b[0m\u001b[0;34m\u001b[0m\u001b[0m\n",
      "\u001b[0;32m~/db/proj2/qep-parser/BooleanExpression.py\u001b[0m in \u001b[0;36m<module>\u001b[0;34m\u001b[0m\n\u001b[1;32m      1\u001b[0m \u001b[0;32mimport\u001b[0m \u001b[0mKeywords\u001b[0m\u001b[0;34m\u001b[0m\u001b[0m\n\u001b[1;32m      2\u001b[0m \u001b[0;32mimport\u001b[0m \u001b[0mitertools\u001b[0m\u001b[0;34m\u001b[0m\u001b[0m\n\u001b[0;32m----> 3\u001b[0;31m \u001b[0;32mimport\u001b[0m \u001b[0msympy\u001b[0m\u001b[0;34m\u001b[0m\u001b[0m\n\u001b[0m\u001b[1;32m      4\u001b[0m \u001b[0;32mimport\u001b[0m \u001b[0mre\u001b[0m\u001b[0;34m\u001b[0m\u001b[0m\n\u001b[1;32m      5\u001b[0m \u001b[0;34m\u001b[0m\u001b[0m\n",
      "\u001b[0;31mImportError\u001b[0m: No module named 'sympy'"
     ]
    }
   ],
   "source": [
    "from findExpressions import *"
   ]
  },
  {
   "cell_type": "code",
   "execution_count": 3,
   "metadata": {},
   "outputs": [],
   "source": [
    "#OK\n",
    "query = \\\n",
    "\"EXPLAIN(FORMAT JSON) \\\n",
    "SELECT c.customerNumber, COUNT(*) \\\n",
    "FROM customers c, orders o, orderdetails od \\\n",
    "WHERE c.customerNumber > o.customerNumber AND o.orderNumber = od.orderNumber AND od.quantityOrdered > 1 \\\n",
    "GROUP BY c.customerNumber \\\n",
    "HAVING COUNT(*) > 4;\""
   ]
  },
  {
   "cell_type": "code",
   "execution_count": 1,
   "metadata": {},
   "outputs": [],
   "source": [
    "#NOT OK\n",
    "query = \\\n",
    "\"EXPLAIN(ANALYZE, FORMAT JSON) \\\n",
    "SELECT e.lastName, e.firstName \\\n",
    "FROM employees e, offices o \\\n",
    "WHERE e.officeCode = o.officeCode \\\n",
    "ORDER BY e.lastName ASC;\""
   ]
  },
  {
   "cell_type": "code",
   "execution_count": 7,
   "metadata": {},
   "outputs": [],
   "source": [
    "#OK\n",
    "query = \\\n",
    "\"EXPLAIN(ANALYZE, FORMAT JSON) \\\n",
    "SELECT p.buyPrice, c.customerName \\\n",
    "FROM products p, orderdetails od, customers c, orders o  \\\n",
    "WHERE c.customerNumber = o.customerNumber AND o.orderNumber = od.orderNumber AND p.productCode = od.productCode \\\n",
    "GROUP BY c.customerName, p.buyPrice \\\n",
    "ORDER BY p.buyPrice \\\n",
    "LIMIT 5;\""
   ]
  },
  {
   "cell_type": "code",
   "execution_count": 9,
   "metadata": {},
   "outputs": [],
   "source": [
    "#OK\n",
    "query = \\\n",
    "\"EXPLAIN(ANALYZE, FORMAT JSON) \\\n",
    "SELECT productCode, MSRP, buyPrice \\\n",
    "FROM products \\\n",
    "WHERE productName LIKE '%e%s%t_%';\""
   ]
  },
  {
   "cell_type": "code",
   "execution_count": 13,
   "metadata": {},
   "outputs": [],
   "source": [
    "#OK\n",
    "query = \\\n",
    "\"EXPLAIN(ANALYZE, FORMAT JSON) \\\n",
    "SELECT customerName, paymentDate, amount \\\n",
    "FROM customers \\\n",
    "INNER JOIN payments ON customers.customerNumber = payments.customerNumber;\""
   ]
  },
  {
   "cell_type": "code",
   "execution_count": 19,
   "metadata": {},
   "outputs": [],
   "source": [
    "#NOT OK\n",
    "query = \\\n",
    "\"EXPLAIN(ANALYZE, FORMAT JSON) \\\n",
    "SELECT productCode, productName, productVendor, quantityInStock, MSRP, image \\\n",
    "FROM products \\\n",
    "INNER JOIN productlines ON products.productLine = productlines.productLine \\\n",
    "ORDER BY MSRP DESC \\\n",
    "LIMIT 5;\""
   ]
  },
  {
   "cell_type": "code",
   "execution_count": 17,
   "metadata": {},
   "outputs": [],
   "source": [
    "#OK\n",
    "query = \\\n",
    "\"EXPLAIN(ANALYZE, FORMAT JSON) \\\n",
    "SELECT extension \\\n",
    "FROM employees e \\\n",
    "INNER JOIN offices o ON e.officeCode = o.officeCode \\\n",
    "WHERE e.extension LIKE '%9_0_%';\""
   ]
  },
  {
   "cell_type": "code",
   "execution_count": 2,
   "metadata": {},
   "outputs": [
    {
     "ename": "NameError",
     "evalue": "name 'findExpressions' is not defined",
     "output_type": "error",
     "traceback": [
      "\u001b[0;31m---------------------------------------------------------------------------\u001b[0m",
      "\u001b[0;31mNameError\u001b[0m                                 Traceback (most recent call last)",
      "\u001b[0;32m<ipython-input-2-c3d1bd35c2fe>\u001b[0m in \u001b[0;36m<module>\u001b[0;34m\u001b[0m\n\u001b[0;32m----> 1\u001b[0;31m \u001b[0mbooleans\u001b[0m \u001b[0;34m=\u001b[0m \u001b[0mfindExpressions\u001b[0m\u001b[0;34m(\u001b[0m\u001b[0mquery\u001b[0m\u001b[0;34m)\u001b[0m\u001b[0;34m\u001b[0m\u001b[0m\n\u001b[0m",
      "\u001b[0;31mNameError\u001b[0m: name 'findExpressions' is not defined"
     ]
    }
   ],
   "source": [
    "booleans = findExpressions(query)"
   ]
  },
  {
   "cell_type": "code",
   "execution_count": null,
   "metadata": {},
   "outputs": [],
   "source": []
  }
 ],
 "metadata": {
  "kernelspec": {
   "display_name": "Python 3",
   "language": "python",
   "name": "python3"
  },
  "language_info": {
   "codemirror_mode": {
    "name": "ipython",
    "version": 3
   },
   "file_extension": ".py",
   "mimetype": "text/x-python",
   "name": "python",
   "nbconvert_exporter": "python",
   "pygments_lexer": "ipython3",
   "version": "3.5.2"
  }
 },
 "nbformat": 4,
 "nbformat_minor": 2
}
