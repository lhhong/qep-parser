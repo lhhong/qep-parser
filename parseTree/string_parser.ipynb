{
 "cells": [
  {
   "cell_type": "code",
   "execution_count": 1,
   "metadata": {
    "colab": {},
    "colab_type": "code",
    "id": "IbcdfnMweGyQ"
   },
   "outputs": [],
   "source": [
    "import pydot"
   ]
  },
  {
   "cell_type": "code",
   "execution_count": 2,
   "metadata": {},
   "outputs": [],
   "source": [
    "query = \\\n",
    "\"EXPLAIN \\\n",
    "SELECT c.customerNumber, COUNT(*) \\\n",
    "FROM customers c, orders o, orderdetails od \\\n",
    "WHERE c.customerNumber = o.customerNumber AND o.orderNumber = od.orderNumber AND od.quantityOrdered > 1 \\\n",
    "GROUP BY c.customerNumber \\\n",
    "HAVING COUNT(*) > 4;\""
   ]
  },
  {
   "cell_type": "code",
   "execution_count": 3,
   "metadata": {
    "colab": {},
    "colab_type": "code",
    "id": "k3E-u0GGeGyU"
   },
   "outputs": [],
   "source": [
    "result = [('HashAggregate  (cost=121.11..122.63 rows=41 width=16)',),\n",
    " ('  Group Key: c.customernumber',),\n",
    " ('  Filter: (count(*) > 4)',),\n",
    " ('  ->  Hash Join  (cost=17.08..98.64 rows=2996 width=8)',),\n",
    " ('        Hash Cond: (o.customernumber = c.customernumber)',),\n",
    " ('        ->  Hash Join  (cost=11.34..84.75 rows=2996 width=8)',),\n",
    " ('              Hash Cond: (od.ordernumber = o.ordernumber)',),\n",
    " ('              ->  Seq Scan on orderdetails od  (cost=0.00..65.45 rows=2996 width=8)',),\n",
    " ('                    Filter: (quantityordered > 1)',),\n",
    " ('              ->  Hash  (cost=7.26..7.26 rows=326 width=16)',),\n",
    " ('                    ->  Seq Scan on orders o  (cost=0.00..7.26 rows=326 width=16)',),\n",
    " ('        ->  Hash  (cost=4.22..4.22 rows=122 width=8)',),\n",
    " ('              ->  Seq Scan on customers c  (cost=0.00..4.22 rows=122 width=8)',)]"
   ]
  },
  {
   "cell_type": "code",
   "execution_count": 4,
   "metadata": {
    "colab": {},
    "colab_type": "code",
    "id": "Tv66D86GeGyX"
   },
   "outputs": [
    {
     "name": "stdout",
     "output_type": "stream",
     "text": [
      "HashAggregate  (cost=121.11..122.63 rows=41 width=16)\n",
      "  Group Key: c.customernumber\n",
      "  Filter: (count(*) > 4)\n",
      "  ->  Hash Join  (cost=17.08..98.64 rows=2996 width=8)\n",
      "        Hash Cond: (o.customernumber = c.customernumber)\n",
      "        ->  Hash Join  (cost=11.34..84.75 rows=2996 width=8)\n",
      "              Hash Cond: (od.ordernumber = o.ordernumber)\n",
      "              ->  Seq Scan on orderdetails od  (cost=0.00..65.45 rows=2996 width=8)\n",
      "                    Filter: (quantityordered > 1)\n",
      "              ->  Hash  (cost=7.26..7.26 rows=326 width=16)\n",
      "                    ->  Seq Scan on orders o  (cost=0.00..7.26 rows=326 width=16)\n",
      "        ->  Hash  (cost=4.22..4.22 rows=122 width=8)\n",
      "              ->  Seq Scan on customers c  (cost=0.00..4.22 rows=122 width=8)\n"
     ]
    }
   ],
   "source": [
    "for res in result:\n",
    "    print(res[0])"
   ]
  },
  {
   "cell_type": "code",
   "execution_count": 5,
   "metadata": {
    "colab": {},
    "colab_type": "code",
    "id": "Df68K-paeGyc"
   },
   "outputs": [],
   "source": [
    "# Note that the order of operators is important\n",
    "operators = ['HashAggregate', 'Hash Join', 'Hash', 'Seq Scan']"
   ]
  },
  {
   "cell_type": "code",
   "execution_count": 6,
   "metadata": {
    "colab": {},
    "colab_type": "code",
    "id": "6GhraEIWeGyf"
   },
   "outputs": [],
   "source": [
    "class TreeNode(object):\n",
    "    def __init__(self, title, val, description):\n",
    "        self.title = title\n",
    "        self.val = val\n",
    "        self.description = description\n",
    "        self.parent = None\n",
    "        self.children = []\n",
    "        self.pydot_node = None\n",
    "\n",
    "    def setParent(self, node):\n",
    "        self.parent = node\n",
    "        \n",
    "    def addChild(self, node):\n",
    "        self.children.append(node)\n",
    "        node.setParent(self)\n",
    "    \n",
    "    def to_string(self):\n",
    "        return self.title + '\\n' + self.description\n"
   ]
  },
  {
   "cell_type": "code",
   "execution_count": 7,
   "metadata": {
    "colab": {},
    "colab_type": "code",
    "id": "pv-U9FzueGyh"
   },
   "outputs": [],
   "source": [
    "def getNumOfPrecedingSpaces(line):\n",
    "    for i in range(len(line)):\n",
    "        if line[i] != ' ':\n",
    "            break  \n",
    "    return i\n",
    "\n",
    "def getOperatorFromLine(line):\n",
    "    # Note that the order of operators is important\n",
    "    operators = ['HashAggregate', 'Hash Join', 'Hash', 'Seq Scan']\n",
    "    for op in operators:\n",
    "        if op in line:\n",
    "            description = line.split(op)[1]\n",
    "            return op, description\n",
    "    return 'Unknown Operator', 'Could not find operator'"
   ]
  },
  {
   "cell_type": "code",
   "execution_count": 8,
   "metadata": {},
   "outputs": [],
   "source": [
    "# class HashJoinOperator:\n",
    "#     def __init__(hash_condition):\n",
    "#         r1, r2, v1, v2"
   ]
  },
  {
   "cell_type": "code",
   "execution_count": 9,
   "metadata": {
    "colab": {},
    "colab_type": "code",
    "id": "iqKPh5IreGyk"
   },
   "outputs": [],
   "source": [
    "def parseQuery(result):\n",
    "    all_nodes = []\n",
    "    stack = []\n",
    "    for i, res in enumerate(result):\n",
    "        line = res[0]\n",
    "        val = getNumOfPrecedingSpaces(line)\n",
    "        # signals the start of an operator\n",
    "        if i == 0 or '->' in line:\n",
    "            op, description = getOperatorFromLine(line)\n",
    "            node = TreeNode(op, val, description)\n",
    "\n",
    "            while len(stack) > 0 and stack[-1].val >= val:\n",
    "                stack.pop()\n",
    "\n",
    "            if len(stack) > 0:\n",
    "                # assign res[0] as a child of stack[-1]\n",
    "                stack[-1].addChild(node)\n",
    "\n",
    "            all_nodes.append(node)\n",
    "            stack.append(node)          \n",
    "\n",
    "        # if the line is not an operator, it belongs as a description of the previous operator\n",
    "        else:\n",
    "            stack[-1].description += '\\n'\n",
    "            line = line.replace(':', '') #pydot doesn't print out semicolons\n",
    "            stack[-1].description += line[val:]\n",
    "    return all_nodes"
   ]
  },
  {
   "cell_type": "code",
   "execution_count": 10,
   "metadata": {
    "colab": {},
    "colab_type": "code",
    "id": "7Qe6--N4eGyn"
   },
   "outputs": [],
   "source": [
    "def printTreeBFS(root):\n",
    "    frontier = [root]\n",
    "    i = 0\n",
    "    while frontier:\n",
    "        next_level = []\n",
    "        for n in frontier:\n",
    "            print(\"level {}, {}\".format(i, n.to_string()))\n",
    "            next_level += n.children\n",
    "        frontier = next_level\n",
    "        i += 1"
   ]
  },
  {
   "cell_type": "code",
   "execution_count": 12,
   "metadata": {
    "colab": {},
    "colab_type": "code",
    "id": "79QoTn3ueGyu"
   },
   "outputs": [],
   "source": [
    "def plotBFS(root, graph):\n",
    "    frontier = [root]\n",
    "    i = 0\n",
    "    while frontier:\n",
    "        next_level = []\n",
    "        for u in frontier:\n",
    "            #print(\"level {}, val {}, title {}\".format(i, n.val, n.title))\n",
    "            for v in u.children: \n",
    "                edge = pydot.Edge(u.pydot_node, v.pydot_node)\n",
    "                graph.add_edge(edge)\n",
    "                next_level.append(v)\n",
    "        frontier = next_level\n",
    "        i += 1"
   ]
  },
  {
   "cell_type": "code",
   "execution_count": 14,
   "metadata": {},
   "outputs": [],
   "source": [
    "def plotQueryTree(result, filename='test.png'):\n",
    "    all_nodes = parseQuery(result)\n",
    "    graph = pydot.Dot(graph_type='graph')\n",
    "    for node in all_nodes:\n",
    "        node.pydot_node = pydot.Node(node.to_string(), shape='box')\n",
    "        graph.add_node(node.pydot_node)\n",
    "    plotBFS(all_nodes[0], graph)\n",
    "    graph.write_png(filename)\n",
    "    return filename"
   ]
  },
  {
   "cell_type": "code",
   "execution_count": 15,
   "metadata": {
    "colab": {},
    "colab_type": "code",
    "id": "TdCFusuTeGyx"
   },
   "outputs": [
    {
     "data": {
      "text/plain": [
       "'test.png'"
      ]
     },
     "execution_count": 15,
     "metadata": {},
     "output_type": "execute_result"
    }
   ],
   "source": [
    "plotQueryTree(result)"
   ]
  },
  {
   "cell_type": "markdown",
   "metadata": {
    "colab": {},
    "colab_type": "code",
    "id": "CQsCqy4beGyz"
   },
   "source": [
    "![title](test.png)\n"
   ]
  },
  {
   "cell_type": "code",
   "execution_count": 16,
   "metadata": {},
   "outputs": [],
   "source": [
    "class Operator(object):\n",
    "\tdef __init__(op_name, cost_estimate, description):\n",
    "\t\t# op_name in ['HashAggregate', 'Hash Join', 'Nested Loop', 'Index Scan', 'Hash', 'Seq Scan']\n",
    "\t\t# cost_estimate is a string, eg cost=2936.20..2937.73 rows=41 width=16\n",
    "\t\t# description is just a description for now\n",
    "\t\tself.op_name = op_name\n",
    "\t\tself.description = description\n",
    "\t\tparseCost(cost_estimate)\n",
    "\n",
    "\tdef parseCost(cost_estimate):\n",
    "\t\tparts = cost_estimate.split(' ')\n",
    "\t\tcosts = parseHeader(parts[0], header='cost=')\n",
    "\t\tmin_cost, max_cost = costs.split('..')\n",
    "\t\trows = parseHeader(parts[1], header='rows=')\n",
    "\n",
    "\t\tself.est_min_cost = float(min_cost)\n",
    "\t\tself.est_max_cost = float(max_cost)\n",
    "\t\tself.rows = int(rows)\n",
    "\n",
    "\tdef parseHeader(line, header):\n",
    "\t\tn = len(header)\n",
    "\t\tif line[:n] == header:\n",
    "\t\t\treturn line[n:]\n",
    "\t\treturn line"
   ]
  },
  {
   "cell_type": "code",
   "execution_count": null,
   "metadata": {},
   "outputs": [],
   "source": [
    "op_line = 'Hash Join  (cost=11.34..84.75 rows=2996 width=8)',)'"
   ]
  }
 ],
 "metadata": {
  "colab": {
   "name": "string_parser.ipynb",
   "private_outputs": true,
   "provenance": [],
   "version": "0.3.2"
  },
  "kernelspec": {
   "display_name": "Python (py36)",
   "language": "python",
   "name": "py36"
  },
  "language_info": {
   "codemirror_mode": {
    "name": "ipython",
    "version": 3
   },
   "file_extension": ".py",
   "mimetype": "text/x-python",
   "name": "python",
   "nbconvert_exporter": "python",
   "pygments_lexer": "ipython3",
   "version": "3.6.6"
  }
 },
 "nbformat": 4,
 "nbformat_minor": 1
}
